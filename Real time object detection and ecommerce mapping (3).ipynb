{
 "cells": [
  {
   "cell_type": "code",
   "execution_count": 1,
   "metadata": {},
   "outputs": [
    {
     "name": "stdout",
     "output_type": "stream",
     "text": [
      "[INFO] loading model...\n",
      " tvmonitor\n",
      "next iteration started\n",
      " chair\n",
      "next iteration started\n",
      " sofa\n",
      "next iteration started\n",
      "Thanks for visiting\n"
     ]
    }
   ],
   "source": [
    "import numpy as np\n",
    "import cv2\n",
    "from gtts import gTTS\n",
    "import os\n",
    "import time\n",
    "import webbrowser\n",
    "\n",
    "CLASSES = [\"background\", \"aeroplane\", \"bicycle\", \"bird\", \"boat\",\n",
    "\t\"bottle\", \"bus\", \"car\", \"cat\", \"chair\", \"cow\", \"diningtable\",\n",
    "\t\"dog\", \"horse\", \"motorbike\", \"person\", \"pottedplant\", \"sheep\",\n",
    "\t\"sofa\", \"train\", \"tvmonitor\"]\n",
    "COLORS = np.random.uniform(0, 255, size=(len(CLASSES), 3))\n",
    "print(\"[INFO] loading model...\")\n",
    "net = cv2.dnn.readNetFromCaffe(\"MobileNetSSD_deploy.prototxt.txt\", \"MobileNetSSD_deploy.caffemodel\")\n",
    "cap = cv2.VideoCapture(0)\n",
    "\n",
    "while True:\n",
    "        _,image=cap.read()\n",
    "        (h, w) = image.shape[:2]\n",
    "        blob = cv2.dnn.blobFromImage(cv2.resize(image, (300, 300)), 0.007843, (300, 300), 127.5)\n",
    "\n",
    "        net.setInput(blob)\n",
    "        detections = net.forward()\n",
    "        labels=''\n",
    "        for i in np.arange(0, detections.shape[2]):\n",
    "                confidence = detections[0, 0, i, 2]\n",
    "                if confidence > 0.2:\n",
    "                        idx = int(detections[0, 0, i, 1])\n",
    "                        box = detections[0, 0, i, 3:7] * np.array([w, h, w, h])\n",
    "                        (startX, startY, endX, endY) = box.astype(\"int\")\n",
    "                        label = \"{}: {:.2f}%\".format(CLASSES[idx], confidence * 100)\n",
    "                        cv2.rectangle(image, (startX, startY), (endX, endY),\n",
    "                                COLORS[idx], 2)\n",
    "                        y = startY - 15 if startY - 15 > 15 else startY + 15\n",
    "                        cv2.putText(image, label, (startX, y),cv2.FONT_HERSHEY_SIMPLEX, 0.5, COLORS[idx], 2)\n",
    "                        labels=labels+str(' ')+label\n",
    "        cv2.imshow(\"img\",image)\n",
    "        key = cv2.waitKey(1) & 0xFF\n",
    "        if key == ord(\"q\"):\n",
    "            output_label=labels.split(':')[0]\n",
    "            print(output_label)\n",
    "            \n",
    "            \n",
    "            if output_label==\" bottle\":\n",
    "                webbrowser.open(\"https://www.amazon.in/s?k=bottle&ref=nb_sb_noss\")\n",
    "            elif output_label==\" chair\":\n",
    "                webbrowser.open(\"https://www.amazon.in/s?k=chair&ref=nb_sb_noss_2\")\n",
    "            elif output_label==\" tvmonitor\":\n",
    "                webbrowser.open(\"https://www.amazon.in/s?k=tv+monitior&ref=nb_sb_noss\")\n",
    "            elif output_label==\" dog\":\n",
    "                webbrowser.open(\"https://www.amazon.in/stores/page/92C52B82-1C6D-4A5F-A22D-9917C601F496/?_encoding=UTF8&store_ref=SB_A10078802KZ5L8FKBBZEK&pd_rd_plhdr=t&aaxitk=98363885851fcdedb91b058e4fb95aae&hsa_cr_id=9336373670602&lp_asins=B0822D6K1D&lp_query=dogs&lp_slot=auto-sparkle-hsa-tetris&ref_=sbx_be_s_sparkle_td_hl&pd_rd_w=xCmxN&pf_rd_p=088a4896-4e55-4a9c-9e96-fdb109ea7578&pd_rd_wg=HUqtn&pf_rd_r=SFCRT7BQ2DRKMHCGYARP&pd_rd_r=eff7828c-5f45-47b2-802b-2dab276fca93\")\n",
    "            elif output_label==\" sofa\":\n",
    "                webbrowser.open(\"https://www.amazon.in/s?k=sofa&ref=nb_sb_noss_1\")\n",
    "                \n",
    "            else:\n",
    "                print(\"Thank you\")    \n",
    "            print('next iteration started')\n",
    "            continue\n",
    "            \n",
    "        if key == ord(\"b\"):\n",
    "            print('Thanks for visiting')\n",
    "            break\n",
    "\n",
    "cv2.destroyAllWindows()\n",
    "cap.release()\n",
    "\n",
    "\n",
    "\n"
   ]
  }
 ],
 "metadata": {
  "kernelspec": {
   "display_name": "Python 3",
   "language": "python",
   "name": "python3"
  },
  "language_info": {
   "codemirror_mode": {
    "name": "ipython",
    "version": 3
   },
   "file_extension": ".py",
   "mimetype": "text/x-python",
   "name": "python",
   "nbconvert_exporter": "python",
   "pygments_lexer": "ipython3",
   "version": "3.8.8"
  }
 },
 "nbformat": 4,
 "nbformat_minor": 2
}
